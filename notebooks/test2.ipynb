{
 "cells": [
  {
   "cell_type": "code",
   "execution_count": 1,
   "metadata": {},
   "outputs": [
    {
     "name": "stdout",
     "output_type": "stream",
     "text": [
      "Reward: 97.0\n",
      "Reward: 139.0\n",
      "Reward: 98.0\n",
      "Reward: 127.0\n",
      "Reward: 124.0\n"
     ]
    }
   ],
   "source": [
    "import torch\n",
    "import gym\n",
    "\n",
    "max_steps = 50_000\n",
    "step = 0\n",
    "lr = 0.005\n",
    "γ = 0.9999\n",
    "\n",
    "env = gym.make('CartPole-v0')\n",
    "\n",
    "nn = torch.nn.Sequential(\n",
    "    torch.nn.Linear(4, 64),\n",
    "    torch.nn.ReLU(),\n",
    "    torch.nn.Linear(64, env.action_space.n),\n",
    "    torch.nn.Softmax(dim=-1)\n",
    ")\n",
    "optim = torch.optim.Adam(nn.parameters(), lr=lr)\n",
    "\n",
    "while step <= max_steps:\n",
    "    obs = torch.tensor(env.reset(), dtype=torch.float)    \n",
    "    done = False\n",
    "    Actions, States, Rewards = [], [], []\n",
    "\n",
    "    while not done:\n",
    "        probs = nn(obs)\n",
    "        dist = torch.distributions.Categorical(probs=probs)        \n",
    "        action = dist.sample().item()\n",
    "        obs_, rew, done, _ = env.step(action)\n",
    "        \n",
    "        Actions.append(torch.tensor(action, dtype=torch.int))\n",
    "        States.append(obs)\n",
    "        Rewards.append(rew)\n",
    "\n",
    "        obs = torch.tensor(obs_, dtype=torch.float)\n",
    "\n",
    "        step += 1\n",
    "        \n",
    "    DiscountedReturns = []\n",
    "    for t in range(len(Rewards)):\n",
    "        G = 0.0\n",
    "        for k, r in enumerate(Rewards[t:]):\n",
    "            G += (γ**k)*r\n",
    "        DiscountedReturns.append(G)\n",
    "    \n",
    "    for State, Action, G in zip(States, Actions, DiscountedReturns):\n",
    "        probs = nn(State)\n",
    "        dist = torch.distributions.Categorical(probs=probs)    \n",
    "        log_prob = dist.log_prob(Action)\n",
    "        \n",
    "        loss = - log_prob*G\n",
    "        \n",
    "        optim.zero_grad()\n",
    "        loss.backward()\n",
    "        optim.step()\n",
    "\n",
    "\n",
    "# %% Play\n",
    "\n",
    "for _ in range(5):\n",
    "    Rewards = []\n",
    "    \n",
    "    obs = torch.tensor(env.reset(), dtype=torch.float)    \n",
    "    done = False\n",
    "    env.render()\n",
    "    \n",
    "    while not done:\n",
    "        probs = nn(obs)\n",
    "        c = torch.distributions.Categorical(probs=probs)        \n",
    "        action = c.sample().item()\n",
    "        \n",
    "        obs_, rew, done, _info = env.step(action)\n",
    "        env.render()\n",
    "\n",
    "        obs = torch.tensor(obs_, dtype=torch.float)\n",
    "\n",
    "        Rewards.append(rew)\n",
    "    \n",
    "\n",
    "    print(f'Reward: {sum(Rewards)}')\n",
    "env.close()"
   ]
  },
  {
   "cell_type": "code",
   "execution_count": null,
   "metadata": {},
   "outputs": [],
   "source": []
  }
 ],
 "metadata": {
  "kernelspec": {
   "display_name": "Python 3.8.13",
   "language": "python",
   "name": "python3"
  },
  "language_info": {
   "codemirror_mode": {
    "name": "ipython",
    "version": 3
   },
   "file_extension": ".py",
   "mimetype": "text/x-python",
   "name": "python",
   "nbconvert_exporter": "python",
   "pygments_lexer": "ipython3",
   "version": "3.8.13"
  },
  "orig_nbformat": 4,
  "vscode": {
   "interpreter": {
    "hash": "e47c508eda2f135ead275feb6da5dfe27515f3d548c4a43b869658eb5e3bf749"
   }
  }
 },
 "nbformat": 4,
 "nbformat_minor": 2
}
