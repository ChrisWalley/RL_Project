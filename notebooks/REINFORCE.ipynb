{
 "cells": [
  {
   "cell_type": "code",
   "execution_count": 7,
   "metadata": {},
   "outputs": [
    {
     "name": "stdout",
     "output_type": "stream",
     "text": [
      "zsh:1: no matches found: gym[classic_control]\n"
     ]
    }
   ],
   "source": []
  },
  {
   "cell_type": "code",
   "execution_count": 6,
   "metadata": {},
   "outputs": [
    {
     "ename": "ImportError",
     "evalue": "cannot import name 'rendering' from 'gym.envs.classic_control' (/Users/gltch/Documents/code/github/RL_Project/.cenv/lib/python3.9/site-packages/gym/envs/classic_control/__init__.py)",
     "output_type": "error",
     "traceback": [
      "\u001b[0;31m---------------------------------------------------------------------------\u001b[0m",
      "\u001b[0;31mImportError\u001b[0m                               Traceback (most recent call last)",
      "\u001b[1;32m/Users/gltch/Documents/code/github/RL_Project/Notebook/RL_Project.ipynb Cell 1\u001b[0m in \u001b[0;36m<cell line: 2>\u001b[0;34m()\u001b[0m\n\u001b[1;32m      <a href='vscode-notebook-cell:/Users/gltch/Documents/code/github/RL_Project/Notebook/RL_Project.ipynb#W0sZmlsZQ%3D%3D?line=0'>1</a>\u001b[0m \u001b[39mimport\u001b[39;00m \u001b[39mgym\u001b[39;00m\n\u001b[0;32m----> <a href='vscode-notebook-cell:/Users/gltch/Documents/code/github/RL_Project/Notebook/RL_Project.ipynb#W0sZmlsZQ%3D%3D?line=1'>2</a>\u001b[0m \u001b[39mfrom\u001b[39;00m \u001b[39mgym\u001b[39;00m\u001b[39m.\u001b[39;00m\u001b[39menvs\u001b[39;00m\u001b[39m.\u001b[39;00m\u001b[39mclassic_control\u001b[39;00m \u001b[39mimport\u001b[39;00m rendering\n\u001b[1;32m      <a href='vscode-notebook-cell:/Users/gltch/Documents/code/github/RL_Project/Notebook/RL_Project.ipynb#W0sZmlsZQ%3D%3D?line=2'>3</a>\u001b[0m \u001b[39mfrom\u001b[39;00m \u001b[39mtime\u001b[39;00m \u001b[39mimport\u001b[39;00m sleep\n\u001b[1;32m      <a href='vscode-notebook-cell:/Users/gltch/Documents/code/github/RL_Project/Notebook/RL_Project.ipynb#W0sZmlsZQ%3D%3D?line=3'>4</a>\u001b[0m \u001b[39mimport\u001b[39;00m \u001b[39mminihack\u001b[39;00m\n",
      "\u001b[0;31mImportError\u001b[0m: cannot import name 'rendering' from 'gym.envs.classic_control' (/Users/gltch/Documents/code/github/RL_Project/.cenv/lib/python3.9/site-packages/gym/envs/classic_control/__init__.py)"
     ]
    }
   ],
   "source": [
    "\n",
    "import gym\n",
    "from gym.envs.classic_control import rendering\n",
    "from time import sleep\n",
    "import minihack\n",
    "\n",
    "\n",
    "env = gym.make(\"MiniHack-River-v0\")\n",
    "env.reset() # each reset generates a new environment instance\n",
    "\n",
    "env.step(1)  # move agent '@' north\n",
    "\n",
    "viewer = rendering.SimpleImageViewer()\n",
    "viewer.imshow()\n",
    "env.render(mode='rgb_array')# each reset generates a new environment instance\n",
    "\n"
   ]
  },
  {
   "cell_type": "code",
   "execution_count": null,
   "metadata": {},
   "outputs": [],
   "source": []
  }
 ],
 "metadata": {
  "kernelspec": {
   "display_name": "Python 3.9.13 64-bit ('.cenv')",
   "language": "python",
   "name": "python3"
  },
  "language_info": {
   "codemirror_mode": {
    "name": "ipython",
    "version": 3
   },
   "file_extension": ".py",
   "mimetype": "text/x-python",
   "name": "python",
   "nbconvert_exporter": "python",
   "pygments_lexer": "ipython3",
   "version": "3.9.13"
  },
  "vscode": {
   "interpreter": {
    "hash": "e47c508eda2f135ead275feb6da5dfe27515f3d548c4a43b869658eb5e3bf749"
   }
  }
 },
 "nbformat": 4,
 "nbformat_minor": 4
}
