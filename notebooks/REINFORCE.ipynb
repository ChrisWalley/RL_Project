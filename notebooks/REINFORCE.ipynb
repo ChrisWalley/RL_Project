{
 "cells": [
  {
   "cell_type": "code",
   "execution_count": 1,
   "metadata": {},
   "outputs": [],
   "source": [
    "import gym\n",
    "import torch\n",
    "import pyglet\n",
    "import minihack\n",
    "\n",
    "import numpy as np\n",
    "\n",
    "from nle import nethack\n",
    "from minihack import RewardManager\n",
    "from gym.envs.classic_control import rendering"
   ]
  },
  {
   "cell_type": "code",
   "execution_count": 2,
   "metadata": {},
   "outputs": [],
   "source": [
    "# constants\n",
    "# ---------\n",
    "\n",
    "SEED = 0 # random seed value\n",
    "\n",
    "# actions for the environment\n",
    "MOVE_ACTIONS = tuple(nethack.CompassDirection)\n",
    "NAVIGATE_ACTIONS = MOVE_ACTIONS + (\n",
    "    nethack.Command.OPEN,\n",
    "    nethack.Command.KICK,\n",
    "    nethack.Command.SEARCH,\n",
    ")\n",
    "\n",
    "# maximum number of steps per episode\n",
    "MAX_EPISODE_STEPS = 1000"
   ]
  },
  {
   "cell_type": "code",
   "execution_count": 3,
   "metadata": {},
   "outputs": [],
   "source": [
    "# if there is a Cuda GPU, then we want to use it\n",
    "device = torch.device(\"cuda\" if torch.cuda.is_available() else \"cpu\")"
   ]
  },
  {
   "cell_type": "code",
   "execution_count": 4,
   "metadata": {},
   "outputs": [],
   "source": [
    "# wrapper for rendering the env as an image\n",
    "class RenderingWrapper(gym.Wrapper):\n",
    "\n",
    "    def __init__(self, env):\n",
    "        super().__init__(env)\n",
    "        self.env = env\n",
    "        self.viewer = rendering.SimpleImageViewer()\n",
    "        self.viewer.width = 1280\n",
    "        self.viewer.height = 520\n",
    "        self.viewer.window = pyglet.window.Window(\n",
    "            width=self.viewer.width, \n",
    "            height=self.viewer.height,\n",
    "            display=self.viewer.display, \n",
    "            vsync=False, \n",
    "            resizable=True\n",
    "        )\n",
    "\n",
    "    def step(self, action):\n",
    "        obs, reward, done, info = self.env.step(action)\n",
    "        self.pixels = obs['pixel']\n",
    "        return obs, reward, done, info\n",
    "\n",
    "    def render(self, mode=\"human\", **kwargs):\n",
    "        if mode == 'human':\n",
    "            self.viewer.imshow(self.pixels)\n",
    "            return self.viewer.isopen\n",
    "        else:\n",
    "            return self.env.render()\n",
    "\n",
    "    def reset(self):\n",
    "        obs = self.env.reset()\n",
    "        self.pixels = obs['pixel']\n",
    "        return obs\n",
    "\n",
    "    def close(self):\n",
    "        if self.viewer is not None:\n",
    "            self.viewer.window.close()\n",
    "            self.viewer.close()\n",
    "            self.viewer = None"
   ]
  },
  {
   "cell_type": "code",
   "execution_count": 5,
   "metadata": {},
   "outputs": [],
   "source": [
    "# create the environment\n",
    "# https://minihack.readthedocs.io/en/latest/envs/skills/quest.html\n",
    "\n",
    "# setup the reward manager\n",
    "# https://minihack.readthedocs.io/en/latest/getting-started/reward.html?highlight=RewardManager#reward-manager\n",
    "reward_manager = RewardManager()\n",
    "reward_manager.add_kill_event(\"minotaur\", reward=10)\n",
    "reward_manager.add_kill_event(\"goblin\", reward=1)\n",
    "reward_manager.add_kill_event(\"jackal\", reward=1)\n",
    "reward_manager.add_kill_event(\"giant rat\", reward=1)\n",
    "\n",
    "# make the environment\n",
    "env = gym.make(\n",
    "    \"MiniHack-Quest-Hard-v0\",\n",
    "    actions=NAVIGATE_ACTIONS,\n",
    "    reward_manager=reward_manager,\n",
    "    observation_keys=(\"glyphs\", \"pixel\"),\n",
    ")\n",
    "env.seed(SEED)\n",
    "\n",
    "# wrappers\n",
    "env = RenderingWrapper(env)"
   ]
  },
  {
   "cell_type": "code",
   "execution_count": 6,
   "metadata": {},
   "outputs": [],
   "source": [
    "_ = env.reset()"
   ]
  },
  {
   "cell_type": "code",
   "execution_count": 7,
   "metadata": {},
   "outputs": [],
   "source": [
    "from time import sleep\n",
    "\n",
    "for i in range(100):\n",
    "\n",
    "    action = np.random.choice(env.action_space.n)\n",
    "    obs, reward, done, info = env.step(action)\n",
    "\n",
    "    env.render()\n",
    "    sleep(0.05)\n",
    "\n",
    "env.close()"
   ]
  },
  {
   "cell_type": "code",
   "execution_count": null,
   "metadata": {},
   "outputs": [],
   "source": []
  }
 ],
 "metadata": {
  "kernelspec": {
   "display_name": "Python 3.9.13 64-bit ('.cenv')",
   "language": "python",
   "name": "python3"
  },
  "language_info": {
   "codemirror_mode": {
    "name": "ipython",
    "version": 3
   },
   "file_extension": ".py",
   "mimetype": "text/x-python",
   "name": "python",
   "nbconvert_exporter": "python",
   "pygments_lexer": "ipython3",
   "version": "3.8.13"
  },
  "vscode": {
   "interpreter": {
    "hash": "e47c508eda2f135ead275feb6da5dfe27515f3d548c4a43b869658eb5e3bf749"
   }
  }
 },
 "nbformat": 4,
 "nbformat_minor": 4
}
